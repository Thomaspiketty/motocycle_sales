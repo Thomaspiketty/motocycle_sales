{
 "cells": [
  {
   "cell_type": "markdown",
   "id": "0743effe",
   "metadata": {},
   "source": [
    "# ℹ️ Introduction to data science notebooks\n",
    "\n",
    "You can skip this section if you are already familiar with data science notebooks.\n",
    "\n",
    "## Data science notebooks\n",
    "A _data science notebook_ is a document that contains text cells (what you're reading right now) and code cells. What is unique with a notebook is that it's **interactive**: You can change or add code cells, and then **run** a cell by selecting it and then clicking the **Run** button above ( <strong>▶</strong>, or Run All ) or hitting `shift + enter`.\n",
    "\n",
    "The result will be displayed directly in the notebook. \n",
    "\n",
    "Try running the cell below:"
   ]
  },
  {
   "cell_type": "code",
   "execution_count": null,
   "id": "7e3543ec",
   "metadata": {},
   "outputs": [
    {
     "data": {
      "text/plain": [
       "2800.0"
      ]
     },
     "execution_count": 1,
     "metadata": {},
     "output_type": "execute_result"
    }
   ],
   "source": [
    "# Run this cell to see the result\n",
    "100 * 1.75 * 16"
   ]
  },
  {
   "cell_type": "markdown",
   "id": "95a7ffb5",
   "metadata": {},
   "source": [
    "Modify any of the numbers and rerun the cell."
   ]
  },
  {
   "cell_type": "markdown",
   "id": "4118f8a0",
   "metadata": {},
   "source": [
    "## Data science notebooks & data analysis\n",
    "Notebooks are great for interactive data analysis. Let's create a pandas DataFrame using the `read_csv()` function. \n",
    "\n",
    "We will load the dataset \"sales_data.csv\" containing three months of sales data for the company. We use the `parse_dates` option to ensure that the \"date\" column is loaded correctly.\n",
    "\n",
    "By using the `head()` command, we display the first five rows of data:"
   ]
  },
  {
   "cell_type": "code",
   "execution_count": 2,
   "id": "70a3b9bd",
   "metadata": {},
   "outputs": [
    {
     "data": {
      "text/html": [
       "<div>\n",
       "<style scoped>\n",
       "    .dataframe tbody tr th:only-of-type {\n",
       "        vertical-align: middle;\n",
       "    }\n",
       "\n",
       "    .dataframe tbody tr th {\n",
       "        vertical-align: top;\n",
       "    }\n",
       "\n",
       "    .dataframe thead th {\n",
       "        text-align: right;\n",
       "    }\n",
       "</style>\n",
       "<table border=\"1\" class=\"dataframe\">\n",
       "  <thead>\n",
       "    <tr style=\"text-align: right;\">\n",
       "      <th></th>\n",
       "      <th>date</th>\n",
       "      <th>warehouse</th>\n",
       "      <th>client_type</th>\n",
       "      <th>product_line</th>\n",
       "      <th>quantity</th>\n",
       "      <th>unit_price</th>\n",
       "      <th>total</th>\n",
       "      <th>payment</th>\n",
       "    </tr>\n",
       "  </thead>\n",
       "  <tbody>\n",
       "    <tr>\n",
       "      <th>0</th>\n",
       "      <td>2021-06-01</td>\n",
       "      <td>Central</td>\n",
       "      <td>Retail</td>\n",
       "      <td>Miscellaneous</td>\n",
       "      <td>8</td>\n",
       "      <td>16.85</td>\n",
       "      <td>134.83</td>\n",
       "      <td>Credit card</td>\n",
       "    </tr>\n",
       "    <tr>\n",
       "      <th>1</th>\n",
       "      <td>2021-06-01</td>\n",
       "      <td>North</td>\n",
       "      <td>Retail</td>\n",
       "      <td>Breaking system</td>\n",
       "      <td>9</td>\n",
       "      <td>19.29</td>\n",
       "      <td>173.61</td>\n",
       "      <td>Cash</td>\n",
       "    </tr>\n",
       "    <tr>\n",
       "      <th>2</th>\n",
       "      <td>2021-06-01</td>\n",
       "      <td>North</td>\n",
       "      <td>Retail</td>\n",
       "      <td>Suspension &amp; traction</td>\n",
       "      <td>8</td>\n",
       "      <td>32.93</td>\n",
       "      <td>263.45</td>\n",
       "      <td>Credit card</td>\n",
       "    </tr>\n",
       "    <tr>\n",
       "      <th>3</th>\n",
       "      <td>2021-06-01</td>\n",
       "      <td>North</td>\n",
       "      <td>Wholesale</td>\n",
       "      <td>Frame &amp; body</td>\n",
       "      <td>16</td>\n",
       "      <td>37.84</td>\n",
       "      <td>605.44</td>\n",
       "      <td>Transfer</td>\n",
       "    </tr>\n",
       "    <tr>\n",
       "      <th>4</th>\n",
       "      <td>2021-06-01</td>\n",
       "      <td>Central</td>\n",
       "      <td>Retail</td>\n",
       "      <td>Engine</td>\n",
       "      <td>2</td>\n",
       "      <td>60.48</td>\n",
       "      <td>120.96</td>\n",
       "      <td>Credit card</td>\n",
       "    </tr>\n",
       "  </tbody>\n",
       "</table>\n",
       "</div>"
      ],
      "text/plain": [
       "        date warehouse client_type           product_line  quantity  \\\n",
       "0 2021-06-01   Central      Retail          Miscellaneous         8   \n",
       "1 2021-06-01     North      Retail        Breaking system         9   \n",
       "2 2021-06-01     North      Retail  Suspension & traction         8   \n",
       "3 2021-06-01     North   Wholesale           Frame & body        16   \n",
       "4 2021-06-01   Central      Retail                 Engine         2   \n",
       "\n",
       "   unit_price   total      payment  \n",
       "0       16.85  134.83  Credit card  \n",
       "1       19.29  173.61         Cash  \n",
       "2       32.93  263.45  Credit card  \n",
       "3       37.84  605.44     Transfer  \n",
       "4       60.48  120.96  Credit card  "
      ]
     },
     "execution_count": 2,
     "metadata": {},
     "output_type": "execute_result"
    }
   ],
   "source": [
    "# Importing the pandas module\n",
    "import pandas as pd\n",
    "\n",
    "# Reading in the sales data\n",
    "df = pd.read_csv('sales_data.csv', parse_dates=['date'])\n",
    "\n",
    "# Take a look at the first datapoints\n",
    "df.head()"
   ]
  },
  {
   "cell_type": "markdown",
   "id": "e284bdf0",
   "metadata": {},
   "source": [
    "## Data analysis example:\n",
    "\n",
    "Find the total sales for each warehouse. \n",
    "\n",
    "We can use `groupby` to group the information by the column \"warehouse\". Then we select the column \"total\" and use `.sum()` to add the \"total\" column for each warehouse:"
   ]
  },
  {
   "cell_type": "code",
   "execution_count": 3,
   "id": "5d4e35b9",
   "metadata": {},
   "outputs": [
    {
     "data": {
      "text/html": [
       "<div>\n",
       "<style scoped>\n",
       "    .dataframe tbody tr th:only-of-type {\n",
       "        vertical-align: middle;\n",
       "    }\n",
       "\n",
       "    .dataframe tbody tr th {\n",
       "        vertical-align: top;\n",
       "    }\n",
       "\n",
       "    .dataframe thead th {\n",
       "        text-align: right;\n",
       "    }\n",
       "</style>\n",
       "<table border=\"1\" class=\"dataframe\">\n",
       "  <thead>\n",
       "    <tr style=\"text-align: right;\">\n",
       "      <th></th>\n",
       "      <th>total</th>\n",
       "    </tr>\n",
       "    <tr>\n",
       "      <th>warehouse</th>\n",
       "      <th></th>\n",
       "    </tr>\n",
       "  </thead>\n",
       "  <tbody>\n",
       "    <tr>\n",
       "      <th>Central</th>\n",
       "      <td>141982.88</td>\n",
       "    </tr>\n",
       "    <tr>\n",
       "      <th>North</th>\n",
       "      <td>100203.63</td>\n",
       "    </tr>\n",
       "    <tr>\n",
       "      <th>West</th>\n",
       "      <td>46926.49</td>\n",
       "    </tr>\n",
       "  </tbody>\n",
       "</table>\n",
       "</div>"
      ],
      "text/plain": [
       "               total\n",
       "warehouse           \n",
       "Central    141982.88\n",
       "North      100203.63\n",
       "West        46926.49"
      ]
     },
     "execution_count": 3,
     "metadata": {},
     "output_type": "execute_result"
    }
   ],
   "source": [
    "df.groupby('warehouse')[['total']].sum()"
   ]
  },
  {
   "cell_type": "markdown",
   "id": "79f08582",
   "metadata": {},
   "source": [
    "## Data science notebooks & visualizations\n",
    "Visualizations are very helpful to summarize data and gain insights. A well-crafted chart often conveys information much better than a table.\n",
    "\n",
    "It is very straightforward to include plots in a data science notebook. For example, let's look at the average number of items purchased by each client type. \n",
    "\n",
    "We are using the `matplotlib.pyplot` library for this example. We will run the `.plot()` method on the data we want to display and call `plt.show()` to draw the plot:"
   ]
  },
  {
   "cell_type": "code",
   "execution_count": 4,
   "id": "4f22ecb4",
   "metadata": {},
   "outputs": [
    {
     "data": {
      "image/png": "[encoded data removed]",
      "text/plain": [
       "<Figure size 432x288 with 1 Axes>"
      ]
     },
     "metadata": {
      "needs_background": "light"
     },
     "output_type": "display_data"
    }
   ],
   "source": [
    "import matplotlib.pyplot as plt\n",
    "\n",
    "avg_units_client_type = df.groupby('client_type')['quantity'].mean()\n",
    "avg_units_client_type.plot(kind='barh')\n",
    "plt.show()"
   ]
  },
  {
   "cell_type": "markdown",
   "id": "f8b70d12",
   "metadata": {},
   "source": [
    "# Reporting on sales data\n",
    "\n",
    "Now let's now move on to the competition and challenge.\n",
    "\n",
    "## 📖 Background\n",
    "You work in the accounting department of a company that sells motorcycle parts. The company operates three warehouses in a large metropolitan area.\n",
    "\n",
    "You’ve recently learned data manipulation and plotting, and suggest helping your colleague analyze past sales data. Your colleague wants to capture sales by payment method. She also needs to know the average unit price for each product line."
   ]
  },
  {
   "cell_type": "markdown",
   "id": "bb4cd736",
   "metadata": {},
   "source": [
    "## 💾 The data\n",
    "\n",
    "#### The sales data has the following fields:\n",
    "- \"date\" - The date, from June to August 2021.\n",
    "- \"warehouse\" - The company operates three warehouses: North, Central, and West.\n",
    "- \"client_type\" - There are two types of customers: Retail and Wholesale.\n",
    "- \"product_line\" - Type of products purchased.\n",
    "- \"quantity\" - How many items were purchased.\n",
    "- \"unit_price\" - Price per item sold.\n",
    "- \"total\" - Total sale = quantity * unit_price.\n",
    "- \"payment\" - How the client paid: Cash, Credit card, Transfer."
   ]
  },
  {
   "cell_type": "code",
   "execution_count": 5,
   "id": "9e45e1f8",
   "metadata": {},
   "outputs": [
    {
     "data": {
      "text/html": [
       "<div>\n",
       "<style scoped>\n",
       "    .dataframe tbody tr th:only-of-type {\n",
       "        vertical-align: middle;\n",
       "    }\n",
       "\n",
       "    .dataframe tbody tr th {\n",
       "        vertical-align: top;\n",
       "    }\n",
       "\n",
       "    .dataframe thead th {\n",
       "        text-align: right;\n",
       "    }\n",
       "</style>\n",
       "<table border=\"1\" class=\"dataframe\">\n",
       "  <thead>\n",
       "    <tr style=\"text-align: right;\">\n",
       "      <th></th>\n",
       "      <th>date</th>\n",
       "      <th>warehouse</th>\n",
       "      <th>client_type</th>\n",
       "      <th>product_line</th>\n",
       "      <th>quantity</th>\n",
       "      <th>unit_price</th>\n",
       "      <th>total</th>\n",
       "      <th>payment</th>\n",
       "    </tr>\n",
       "  </thead>\n",
       "  <tbody>\n",
       "    <tr>\n",
       "      <th>0</th>\n",
       "      <td>2021-06-01</td>\n",
       "      <td>Central</td>\n",
       "      <td>Retail</td>\n",
       "      <td>Miscellaneous</td>\n",
       "      <td>8</td>\n",
       "      <td>16.85</td>\n",
       "      <td>134.83</td>\n",
       "      <td>Credit card</td>\n",
       "    </tr>\n",
       "    <tr>\n",
       "      <th>1</th>\n",
       "      <td>2021-06-01</td>\n",
       "      <td>North</td>\n",
       "      <td>Retail</td>\n",
       "      <td>Breaking system</td>\n",
       "      <td>9</td>\n",
       "      <td>19.29</td>\n",
       "      <td>173.61</td>\n",
       "      <td>Cash</td>\n",
       "    </tr>\n",
       "    <tr>\n",
       "      <th>2</th>\n",
       "      <td>2021-06-01</td>\n",
       "      <td>North</td>\n",
       "      <td>Retail</td>\n",
       "      <td>Suspension &amp; traction</td>\n",
       "      <td>8</td>\n",
       "      <td>32.93</td>\n",
       "      <td>263.45</td>\n",
       "      <td>Credit card</td>\n",
       "    </tr>\n",
       "    <tr>\n",
       "      <th>3</th>\n",
       "      <td>2021-06-01</td>\n",
       "      <td>North</td>\n",
       "      <td>Wholesale</td>\n",
       "      <td>Frame &amp; body</td>\n",
       "      <td>16</td>\n",
       "      <td>37.84</td>\n",
       "      <td>605.44</td>\n",
       "      <td>Transfer</td>\n",
       "    </tr>\n",
       "    <tr>\n",
       "      <th>4</th>\n",
       "      <td>2021-06-01</td>\n",
       "      <td>Central</td>\n",
       "      <td>Retail</td>\n",
       "      <td>Engine</td>\n",
       "      <td>2</td>\n",
       "      <td>60.48</td>\n",
       "      <td>120.96</td>\n",
       "      <td>Credit card</td>\n",
       "    </tr>\n",
       "  </tbody>\n",
       "</table>\n",
       "</div>"
      ],
      "text/plain": [
       "        date warehouse client_type           product_line  quantity  \\\n",
       "0 2021-06-01   Central      Retail          Miscellaneous         8   \n",
       "1 2021-06-01     North      Retail        Breaking system         9   \n",
       "2 2021-06-01     North      Retail  Suspension & traction         8   \n",
       "3 2021-06-01     North   Wholesale           Frame & body        16   \n",
       "4 2021-06-01   Central      Retail                 Engine         2   \n",
       "\n",
       "   unit_price   total      payment  \n",
       "0       16.85  134.83  Credit card  \n",
       "1       19.29  173.61         Cash  \n",
       "2       32.93  263.45  Credit card  \n",
       "3       37.84  605.44     Transfer  \n",
       "4       60.48  120.96  Credit card  "
      ]
     },
     "execution_count": 5,
     "metadata": {},
     "output_type": "execute_result"
    }
   ],
   "source": [
    "df.head()"
   ]
  },
  {
   "cell_type": "markdown",
   "id": "6c0744d0",
   "metadata": {},
   "source": [
    "## 💪 Challenge\n",
    "Create a report to answer your colleague's questions. Include:\n",
    "\n",
    "1. What are the total sales for each payment method?\n",
    "2. What is the average unit price for each product line?\n",
    "3. Create plots to visualize findings for questions 1 and 2.\n",
    "4. [Optional] Investigate further (e.g., average purchase value by client type, total purchase value by product line, etc.)\n",
    "5. Summarize your findings."
   ]
  },
  {
   "cell_type": "markdown",
   "id": "fd227115",
   "metadata": {},
   "source": [
    "## ✅ Checklist before publishing\n",
    "- Rename your workspace to make it descriptive of your work. N.B. you should leave the notebook name as notebook.ipynb.\n",
    "- Remove redundant cells like the introduction to data science notebooks, so the workbook is focused on your story.\n",
    "- Check that all the cells run without error."
   ]
  },
  {
   "cell_type": "markdown",
   "id": "d21a86dd",
   "metadata": {},
   "source": [
    "## ⌛️ Time is ticking. Good luck!"
   ]
  },
  {
   "cell_type": "code",
   "execution_count": 105,
   "id": "45b84739-be2c-4f65-bd97-80e93d472cd5",
   "metadata": {},
   "outputs": [
    {
     "data": {
      "text/plain": [
       "False"
      ]
     },
     "execution_count": 105,
     "metadata": {},
     "output_type": "execute_result"
    }
   ],
   "source": [
    "df.duplicated().any()"
   ]
  },
  {
   "cell_type": "code",
   "execution_count": 106,
   "id": "9df34b51-f556-45fa-bd95-1bc2dbbf425a",
   "metadata": {},
   "outputs": [
    {
     "data": {
      "text/plain": [
       "date            False\n",
       "warehouse       False\n",
       "client_type     False\n",
       "product_line    False\n",
       "quantity        False\n",
       "unit_price      False\n",
       "total           False\n",
       "payment         False\n",
       "dtype: bool"
      ]
     },
     "execution_count": 106,
     "metadata": {},
     "output_type": "execute_result"
    }
   ],
   "source": [
    "df.isna().any()"
   ]
  },
  {
   "cell_type": "markdown",
   "id": "49630d52-5c2b-4ffc-81d9-1a933612b742",
   "metadata": {},
   "source": [
    "# 1. What are the total sales for each payment method?\n"
   ]
  },
  {
   "cell_type": "code",
   "execution_count": 6,
   "id": "01f82014-5fd3-489e-a1d0-2717e0be0c6b",
   "metadata": {},
   "outputs": [
    {
     "data": {
      "text/html": [
       "<div>\n",
       "<style scoped>\n",
       "    .dataframe tbody tr th:only-of-type {\n",
       "        vertical-align: middle;\n",
       "    }\n",
       "\n",
       "    .dataframe tbody tr th {\n",
       "        vertical-align: top;\n",
       "    }\n",
       "\n",
       "    .dataframe thead th {\n",
       "        text-align: right;\n",
       "    }\n",
       "</style>\n",
       "<table border=\"1\" class=\"dataframe\">\n",
       "  <thead>\n",
       "    <tr style=\"text-align: right;\">\n",
       "      <th></th>\n",
       "      <th>date</th>\n",
       "      <th>warehouse</th>\n",
       "      <th>client_type</th>\n",
       "      <th>product_line</th>\n",
       "      <th>quantity</th>\n",
       "      <th>unit_price</th>\n",
       "      <th>total</th>\n",
       "      <th>payment</th>\n",
       "    </tr>\n",
       "  </thead>\n",
       "  <tbody>\n",
       "    <tr>\n",
       "      <th>0</th>\n",
       "      <td>2021-06-01</td>\n",
       "      <td>Central</td>\n",
       "      <td>Retail</td>\n",
       "      <td>Miscellaneous</td>\n",
       "      <td>8</td>\n",
       "      <td>16.85</td>\n",
       "      <td>134.83</td>\n",
       "      <td>Credit card</td>\n",
       "    </tr>\n",
       "    <tr>\n",
       "      <th>1</th>\n",
       "      <td>2021-06-01</td>\n",
       "      <td>North</td>\n",
       "      <td>Retail</td>\n",
       "      <td>Breaking system</td>\n",
       "      <td>9</td>\n",
       "      <td>19.29</td>\n",
       "      <td>173.61</td>\n",
       "      <td>Cash</td>\n",
       "    </tr>\n",
       "    <tr>\n",
       "      <th>2</th>\n",
       "      <td>2021-06-01</td>\n",
       "      <td>North</td>\n",
       "      <td>Retail</td>\n",
       "      <td>Suspension &amp; traction</td>\n",
       "      <td>8</td>\n",
       "      <td>32.93</td>\n",
       "      <td>263.45</td>\n",
       "      <td>Credit card</td>\n",
       "    </tr>\n",
       "    <tr>\n",
       "      <th>3</th>\n",
       "      <td>2021-06-01</td>\n",
       "      <td>North</td>\n",
       "      <td>Wholesale</td>\n",
       "      <td>Frame &amp; body</td>\n",
       "      <td>16</td>\n",
       "      <td>37.84</td>\n",
       "      <td>605.44</td>\n",
       "      <td>Transfer</td>\n",
       "    </tr>\n",
       "    <tr>\n",
       "      <th>4</th>\n",
       "      <td>2021-06-01</td>\n",
       "      <td>Central</td>\n",
       "      <td>Retail</td>\n",
       "      <td>Engine</td>\n",
       "      <td>2</td>\n",
       "      <td>60.48</td>\n",
       "      <td>120.96</td>\n",
       "      <td>Credit card</td>\n",
       "    </tr>\n",
       "  </tbody>\n",
       "</table>\n",
       "</div>"
      ],
      "text/plain": [
       "        date warehouse client_type           product_line  quantity  \\\n",
       "0 2021-06-01   Central      Retail          Miscellaneous         8   \n",
       "1 2021-06-01     North      Retail        Breaking system         9   \n",
       "2 2021-06-01     North      Retail  Suspension & traction         8   \n",
       "3 2021-06-01     North   Wholesale           Frame & body        16   \n",
       "4 2021-06-01   Central      Retail                 Engine         2   \n",
       "\n",
       "   unit_price   total      payment  \n",
       "0       16.85  134.83  Credit card  \n",
       "1       19.29  173.61         Cash  \n",
       "2       32.93  263.45  Credit card  \n",
       "3       37.84  605.44     Transfer  \n",
       "4       60.48  120.96  Credit card  "
      ]
     },
     "execution_count": 6,
     "metadata": {},
     "output_type": "execute_result"
    }
   ],
   "source": [
    "df.head()"
   ]
  },
  {
   "cell_type": "markdown",
   "id": "5426515a-dcbf-45ad-afcf-a396d464e0fb",
   "metadata": {},
   "source": [
    "### First, want to know how is the total sale by the time"
   ]
  },
  {
   "cell_type": "code",
   "execution_count": 61,
   "id": "dec90763-aa3f-49c4-8a0e-30ec9c583713",
   "metadata": {},
   "outputs": [
    {
     "data": {
      "text/plain": [
       "<AxesSubplot:xlabel='date'>"
      ]
     },
     "execution_count": 61,
     "metadata": {},
     "output_type": "execute_result"
    },
    {
     "data": {
      "image/png": "[encoded data removed]",
      "text/plain": [
       "<Figure size 432x288 with 1 Axes>"
      ]
     },
     "metadata": {},
     "output_type": "display_data"
    }
   ],
   "source": [
    "df.groupby('date').total.sum().plot()"
   ]
  },
  {
   "cell_type": "code",
   "execution_count": 87,
   "id": "c81a70ef-19db-4552-8a4f-5f0c743c7a1a",
   "metadata": {},
   "outputs": [
    {
     "data": {
      "text/plain": [
       "<AxesSubplot:xlabel='date'>"
      ]
     },
     "execution_count": 87,
     "metadata": {},
     "output_type": "execute_result"
    },
    {
     "data": {
      "image/png": "[encoded data removed]",
      "text/plain": [
       "<Figure size 432x288 with 1 Axes>"
      ]
     },
     "metadata": {},
     "output_type": "display_data"
    }
   ],
   "source": [
    "df.groupby(pd.Grouper(key = 'date', freq = '1w')).total.sum().plot()"
   ]
  },
  {
   "cell_type": "markdown",
   "id": "37c856df-a6d7-4ce5-913d-4547a16ab651",
   "metadata": {},
   "source": [
    "### The total sale per week looks quite unstable"
   ]
  },
  {
   "cell_type": "code",
   "execution_count": 88,
   "id": "eae26bdf-164e-4fdb-bf0c-3abb0bd2dbb8",
   "metadata": {},
   "outputs": [
    {
     "data": {
      "text/plain": [
       "<AxesSubplot:xlabel='date'>"
      ]
     },
     "execution_count": 88,
     "metadata": {},
     "output_type": "execute_result"
    },
    {
     "data": {
      "image/png": "[encoded data removed]",
      "text/plain": [
       "<Figure size 432x288 with 1 Axes>"
      ]
     },
     "metadata": {},
     "output_type": "display_data"
    }
   ],
   "source": [
    "df.groupby(pd.Grouper(key = 'date', freq = '1m')).total.sum().plot()"
   ]
  },
  {
   "cell_type": "markdown",
   "id": "23867260-9ff8-450e-bfcc-44fe8137f982",
   "metadata": {},
   "source": [
    "### The total sale per month\n",
    "### In July the total sale is lowest and August rapidly increased"
   ]
  },
  {
   "cell_type": "code",
   "execution_count": 7,
   "id": "ac3a68d9-e595-468a-85bf-6ed75e69be09",
   "metadata": {},
   "outputs": [
    {
     "data": {
      "text/plain": [
       "payment\n",
       "Cash            19199.10\n",
       "Credit card    110271.57\n",
       "Transfer       159642.33\n",
       "Name: total, dtype: float64"
      ]
     },
     "execution_count": 7,
     "metadata": {},
     "output_type": "execute_result"
    }
   ],
   "source": [
    "df.groupby('payment').total.sum()"
   ]
  },
  {
   "cell_type": "code",
   "execution_count": 43,
   "id": "b44cfda0-8cb5-4fb4-a6a4-5826011b8ab1",
   "metadata": {},
   "outputs": [],
   "source": [
    "credit = df[df.payment == 'Credit card'].groupby('date').total.sum()"
   ]
  },
  {
   "cell_type": "code",
   "execution_count": 44,
   "id": "01329895-64f7-4138-9a63-8279a4291367",
   "metadata": {},
   "outputs": [
    {
     "data": {
      "text/plain": [
       "date\n",
       "2021-06-01    1524.57\n",
       "2021-06-02    1297.14\n",
       "2021-06-03    1025.54\n",
       "2021-06-04     899.40\n",
       "2021-06-05    1357.72\n",
       "               ...   \n",
       "2021-08-24     287.48\n",
       "2021-08-25     668.63\n",
       "2021-08-26     507.09\n",
       "2021-08-27    1313.69\n",
       "2021-08-28     930.73\n",
       "Name: total, Length: 89, dtype: float64"
      ]
     },
     "execution_count": 44,
     "metadata": {},
     "output_type": "execute_result"
    }
   ],
   "source": [
    "credit"
   ]
  },
  {
   "cell_type": "code",
   "execution_count": 41,
   "id": "600e9478-d670-4cfb-91a6-b18d3f5feeb5",
   "metadata": {},
   "outputs": [],
   "source": [
    "cash = df[df.payment == 'Cash'].groupby('date').total.sum()"
   ]
  },
  {
   "cell_type": "code",
   "execution_count": 42,
   "id": "a75470c1-e274-4896-a1cd-64e048b38df6",
   "metadata": {},
   "outputs": [],
   "source": [
    "transfer = df[df.payment == 'Transfer'].groupby('date').total.sum()"
   ]
  },
  {
   "cell_type": "code",
   "execution_count": 9,
   "id": "9d0a6cb9-47ac-4b75-a562-732e181385b2",
   "metadata": {},
   "outputs": [],
   "source": [
    "import seaborn as sns"
   ]
  },
  {
   "cell_type": "code",
   "execution_count": 49,
   "id": "8b0e2fa9-fd91-4505-8363-c3e46e44f610",
   "metadata": {},
   "outputs": [
    {
     "data": {
      "image/png": "[encoded data removed]",
      "text/plain": [
       "<Figure size 1440x720 with 3 Axes>"
      ]
     },
     "metadata": {},
     "output_type": "display_data"
    }
   ],
   "source": [
    "fig, axes = plt.subplots(3, sharex = True, figsize = (20,10))\n",
    "sns.lineplot(data = credit, ax = axes[0])\n",
    "sns.lineplot(data = cash, ax = axes[1])\n",
    "sns.lineplot(data = transfer, ax = axes[2])\n",
    "plt.show()"
   ]
  },
  {
   "cell_type": "code",
   "execution_count": 63,
   "id": "51e08c66-fe4f-4444-b182-a5158083ee87",
   "metadata": {},
   "outputs": [
    {
     "data": {
      "text/plain": [
       "<AxesSubplot:xlabel='date'>"
      ]
     },
     "execution_count": 63,
     "metadata": {},
     "output_type": "execute_result"
    },
    {
     "data": {
      "image/png": "[encoded data removed]",
      "text/plain": [
       "<Figure size 432x288 with 1 Axes>"
      ]
     },
     "metadata": {},
     "output_type": "display_data"
    }
   ],
   "source": [
    "df.groupby(pd.Grouper(key = 'date', freq = '1w') ).total.mean().plot()"
   ]
  },
  {
   "cell_type": "code",
   "execution_count": 79,
   "id": "43529d0c-c309-48f7-bc8b-dec10c876b64",
   "metadata": {},
   "outputs": [],
   "source": [
    "payment_per_week = df.groupby(['payment', pd.Grouper(key = 'date', freq = '1w')]).total.sum().reset_index()"
   ]
  },
  {
   "cell_type": "code",
   "execution_count": 80,
   "id": "d100e0f5-d898-4540-b07b-d6adf060b95c",
   "metadata": {
    "tags": []
   },
   "outputs": [
    {
     "data": {
      "text/html": [
       "<div>\n",
       "<style scoped>\n",
       "    .dataframe tbody tr th:only-of-type {\n",
       "        vertical-align: middle;\n",
       "    }\n",
       "\n",
       "    .dataframe tbody tr th {\n",
       "        vertical-align: top;\n",
       "    }\n",
       "\n",
       "    .dataframe thead th {\n",
       "        text-align: right;\n",
       "    }\n",
       "</style>\n",
       "<table border=\"1\" class=\"dataframe\">\n",
       "  <thead>\n",
       "    <tr style=\"text-align: right;\">\n",
       "      <th></th>\n",
       "      <th>payment</th>\n",
       "      <th>date</th>\n",
       "      <th>total</th>\n",
       "    </tr>\n",
       "  </thead>\n",
       "  <tbody>\n",
       "    <tr>\n",
       "      <th>0</th>\n",
       "      <td>Cash</td>\n",
       "      <td>2021-06-06</td>\n",
       "      <td>280.30</td>\n",
       "    </tr>\n",
       "    <tr>\n",
       "      <th>1</th>\n",
       "      <td>Cash</td>\n",
       "      <td>2021-06-13</td>\n",
       "      <td>1488.89</td>\n",
       "    </tr>\n",
       "    <tr>\n",
       "      <th>2</th>\n",
       "      <td>Cash</td>\n",
       "      <td>2021-06-20</td>\n",
       "      <td>1362.10</td>\n",
       "    </tr>\n",
       "    <tr>\n",
       "      <th>3</th>\n",
       "      <td>Cash</td>\n",
       "      <td>2021-06-27</td>\n",
       "      <td>3789.13</td>\n",
       "    </tr>\n",
       "    <tr>\n",
       "      <th>4</th>\n",
       "      <td>Cash</td>\n",
       "      <td>2021-07-04</td>\n",
       "      <td>1249.23</td>\n",
       "    </tr>\n",
       "    <tr>\n",
       "      <th>5</th>\n",
       "      <td>Cash</td>\n",
       "      <td>2021-07-11</td>\n",
       "      <td>2108.45</td>\n",
       "    </tr>\n",
       "    <tr>\n",
       "      <th>6</th>\n",
       "      <td>Cash</td>\n",
       "      <td>2021-07-18</td>\n",
       "      <td>831.67</td>\n",
       "    </tr>\n",
       "    <tr>\n",
       "      <th>7</th>\n",
       "      <td>Cash</td>\n",
       "      <td>2021-07-25</td>\n",
       "      <td>905.75</td>\n",
       "    </tr>\n",
       "    <tr>\n",
       "      <th>8</th>\n",
       "      <td>Cash</td>\n",
       "      <td>2021-08-01</td>\n",
       "      <td>1605.67</td>\n",
       "    </tr>\n",
       "    <tr>\n",
       "      <th>9</th>\n",
       "      <td>Cash</td>\n",
       "      <td>2021-08-08</td>\n",
       "      <td>760.55</td>\n",
       "    </tr>\n",
       "    <tr>\n",
       "      <th>10</th>\n",
       "      <td>Cash</td>\n",
       "      <td>2021-08-15</td>\n",
       "      <td>791.61</td>\n",
       "    </tr>\n",
       "    <tr>\n",
       "      <th>11</th>\n",
       "      <td>Cash</td>\n",
       "      <td>2021-08-22</td>\n",
       "      <td>2145.51</td>\n",
       "    </tr>\n",
       "    <tr>\n",
       "      <th>12</th>\n",
       "      <td>Cash</td>\n",
       "      <td>2021-08-29</td>\n",
       "      <td>1880.24</td>\n",
       "    </tr>\n",
       "    <tr>\n",
       "      <th>13</th>\n",
       "      <td>Credit card</td>\n",
       "      <td>2021-06-06</td>\n",
       "      <td>7012.15</td>\n",
       "    </tr>\n",
       "    <tr>\n",
       "      <th>14</th>\n",
       "      <td>Credit card</td>\n",
       "      <td>2021-06-13</td>\n",
       "      <td>8137.81</td>\n",
       "    </tr>\n",
       "    <tr>\n",
       "      <th>15</th>\n",
       "      <td>Credit card</td>\n",
       "      <td>2021-06-20</td>\n",
       "      <td>9501.34</td>\n",
       "    </tr>\n",
       "    <tr>\n",
       "      <th>16</th>\n",
       "      <td>Credit card</td>\n",
       "      <td>2021-06-27</td>\n",
       "      <td>10083.89</td>\n",
       "    </tr>\n",
       "    <tr>\n",
       "      <th>17</th>\n",
       "      <td>Credit card</td>\n",
       "      <td>2021-07-04</td>\n",
       "      <td>9013.87</td>\n",
       "    </tr>\n",
       "    <tr>\n",
       "      <th>18</th>\n",
       "      <td>Credit card</td>\n",
       "      <td>2021-07-11</td>\n",
       "      <td>9917.61</td>\n",
       "    </tr>\n",
       "    <tr>\n",
       "      <th>19</th>\n",
       "      <td>Credit card</td>\n",
       "      <td>2021-07-18</td>\n",
       "      <td>8652.20</td>\n",
       "    </tr>\n",
       "    <tr>\n",
       "      <th>20</th>\n",
       "      <td>Credit card</td>\n",
       "      <td>2021-07-25</td>\n",
       "      <td>7088.97</td>\n",
       "    </tr>\n",
       "    <tr>\n",
       "      <th>21</th>\n",
       "      <td>Credit card</td>\n",
       "      <td>2021-08-01</td>\n",
       "      <td>9524.64</td>\n",
       "    </tr>\n",
       "    <tr>\n",
       "      <th>22</th>\n",
       "      <td>Credit card</td>\n",
       "      <td>2021-08-08</td>\n",
       "      <td>9059.40</td>\n",
       "    </tr>\n",
       "    <tr>\n",
       "      <th>23</th>\n",
       "      <td>Credit card</td>\n",
       "      <td>2021-08-15</td>\n",
       "      <td>9499.57</td>\n",
       "    </tr>\n",
       "    <tr>\n",
       "      <th>24</th>\n",
       "      <td>Credit card</td>\n",
       "      <td>2021-08-22</td>\n",
       "      <td>8234.54</td>\n",
       "    </tr>\n",
       "    <tr>\n",
       "      <th>25</th>\n",
       "      <td>Credit card</td>\n",
       "      <td>2021-08-29</td>\n",
       "      <td>4545.58</td>\n",
       "    </tr>\n",
       "    <tr>\n",
       "      <th>26</th>\n",
       "      <td>Transfer</td>\n",
       "      <td>2021-06-06</td>\n",
       "      <td>8535.52</td>\n",
       "    </tr>\n",
       "    <tr>\n",
       "      <th>27</th>\n",
       "      <td>Transfer</td>\n",
       "      <td>2021-06-13</td>\n",
       "      <td>10117.45</td>\n",
       "    </tr>\n",
       "    <tr>\n",
       "      <th>28</th>\n",
       "      <td>Transfer</td>\n",
       "      <td>2021-06-20</td>\n",
       "      <td>16044.19</td>\n",
       "    </tr>\n",
       "    <tr>\n",
       "      <th>29</th>\n",
       "      <td>Transfer</td>\n",
       "      <td>2021-06-27</td>\n",
       "      <td>6669.48</td>\n",
       "    </tr>\n",
       "    <tr>\n",
       "      <th>30</th>\n",
       "      <td>Transfer</td>\n",
       "      <td>2021-07-04</td>\n",
       "      <td>18234.14</td>\n",
       "    </tr>\n",
       "    <tr>\n",
       "      <th>31</th>\n",
       "      <td>Transfer</td>\n",
       "      <td>2021-07-11</td>\n",
       "      <td>11289.92</td>\n",
       "    </tr>\n",
       "    <tr>\n",
       "      <th>32</th>\n",
       "      <td>Transfer</td>\n",
       "      <td>2021-07-18</td>\n",
       "      <td>9722.04</td>\n",
       "    </tr>\n",
       "    <tr>\n",
       "      <th>33</th>\n",
       "      <td>Transfer</td>\n",
       "      <td>2021-07-25</td>\n",
       "      <td>7963.45</td>\n",
       "    </tr>\n",
       "    <tr>\n",
       "      <th>34</th>\n",
       "      <td>Transfer</td>\n",
       "      <td>2021-08-01</td>\n",
       "      <td>12337.66</td>\n",
       "    </tr>\n",
       "    <tr>\n",
       "      <th>35</th>\n",
       "      <td>Transfer</td>\n",
       "      <td>2021-08-08</td>\n",
       "      <td>23957.41</td>\n",
       "    </tr>\n",
       "    <tr>\n",
       "      <th>36</th>\n",
       "      <td>Transfer</td>\n",
       "      <td>2021-08-15</td>\n",
       "      <td>14993.74</td>\n",
       "    </tr>\n",
       "    <tr>\n",
       "      <th>37</th>\n",
       "      <td>Transfer</td>\n",
       "      <td>2021-08-22</td>\n",
       "      <td>9822.89</td>\n",
       "    </tr>\n",
       "    <tr>\n",
       "      <th>38</th>\n",
       "      <td>Transfer</td>\n",
       "      <td>2021-08-29</td>\n",
       "      <td>9954.44</td>\n",
       "    </tr>\n",
       "  </tbody>\n",
       "</table>\n",
       "</div>"
      ],
      "text/plain": [
       "        payment       date     total\n",
       "0          Cash 2021-06-06    280.30\n",
       "1          Cash 2021-06-13   1488.89\n",
       "2          Cash 2021-06-20   1362.10\n",
       "3          Cash 2021-06-27   3789.13\n",
       "4          Cash 2021-07-04   1249.23\n",
       "5          Cash 2021-07-11   2108.45\n",
       "6          Cash 2021-07-18    831.67\n",
       "7          Cash 2021-07-25    905.75\n",
       "8          Cash 2021-08-01   1605.67\n",
       "9          Cash 2021-08-08    760.55\n",
       "10         Cash 2021-08-15    791.61\n",
       "11         Cash 2021-08-22   2145.51\n",
       "12         Cash 2021-08-29   1880.24\n",
       "13  Credit card 2021-06-06   7012.15\n",
       "14  Credit card 2021-06-13   8137.81\n",
       "15  Credit card 2021-06-20   9501.34\n",
       "16  Credit card 2021-06-27  10083.89\n",
       "17  Credit card 2021-07-04   9013.87\n",
       "18  Credit card 2021-07-11   9917.61\n",
       "19  Credit card 2021-07-18   8652.20\n",
       "20  Credit card 2021-07-25   7088.97\n",
       "21  Credit card 2021-08-01   9524.64\n",
       "22  Credit card 2021-08-08   9059.40\n",
       "23  Credit card 2021-08-15   9499.57\n",
       "24  Credit card 2021-08-22   8234.54\n",
       "25  Credit card 2021-08-29   4545.58\n",
       "26     Transfer 2021-06-06   8535.52\n",
       "27     Transfer 2021-06-13  10117.45\n",
       "28     Transfer 2021-06-20  16044.19\n",
       "29     Transfer 2021-06-27   6669.48\n",
       "30     Transfer 2021-07-04  18234.14\n",
       "31     Transfer 2021-07-11  11289.92\n",
       "32     Transfer 2021-07-18   9722.04\n",
       "33     Transfer 2021-07-25   7963.45\n",
       "34     Transfer 2021-08-01  12337.66\n",
       "35     Transfer 2021-08-08  23957.41\n",
       "36     Transfer 2021-08-15  14993.74\n",
       "37     Transfer 2021-08-22   9822.89\n",
       "38     Transfer 2021-08-29   9954.44"
      ]
     },
     "execution_count": 80,
     "metadata": {},
     "output_type": "execute_result"
    }
   ],
   "source": [
    "payment_per_week"
   ]
  },
  {
   "cell_type": "code",
   "execution_count": 82,
   "id": "26b1c256-806c-47eb-b0ba-5aedf8b8dbaf",
   "metadata": {},
   "outputs": [
    {
     "data": {
      "text/plain": [
       "<AxesSubplot:xlabel='date', ylabel='total'>"
      ]
     },
     "execution_count": 82,
     "metadata": {},
     "output_type": "execute_result"
    },
    {
     "data": {
      "image/png": "[encoded data removed]",
      "text/plain": [
       "<Figure size 432x288 with 1 Axes>"
      ]
     },
     "metadata": {},
     "output_type": "display_data"
    }
   ],
   "source": [
    "sns.lineplot(x ='date', y = 'total', data = payment_per_week, hue = 'payment')"
   ]
  },
  {
   "cell_type": "markdown",
   "id": "1cd5c495-1881-4480-93ef-62fd90cb2c14",
   "metadata": {},
   "source": [
    "### The payment method 'Transfer' has most biggest total paying amount. But it is quite unstable, while 'Credit card' and 'Cash' are relative constant."
   ]
  },
  {
   "cell_type": "code",
   "execution_count": 90,
   "id": "2ff07df3-ced2-4176-87b1-9399ec8a659f",
   "metadata": {},
   "outputs": [
    {
     "data": {
      "text/plain": [
       "payment      date      \n",
       "Cash         2021-06-06      93.433333\n",
       "             2021-06-13     165.432222\n",
       "             2021-06-20     272.420000\n",
       "             2021-06-27     222.890000\n",
       "             2021-07-04     124.923000\n",
       "             2021-07-11     162.188462\n",
       "             2021-07-18     138.611667\n",
       "             2021-07-25     113.218750\n",
       "             2021-08-01     145.970000\n",
       "             2021-08-08     126.758333\n",
       "             2021-08-15     131.935000\n",
       "             2021-08-22     214.551000\n",
       "             2021-08-29     156.686667\n",
       "Credit card  2021-06-06     159.367045\n",
       "             2021-06-13     173.144894\n",
       "             2021-06-20     175.950741\n",
       "             2021-06-27     160.061746\n",
       "             2021-07-04     180.277400\n",
       "             2021-07-11     165.293500\n",
       "             2021-07-18     173.044000\n",
       "             2021-07-25     181.768462\n",
       "             2021-08-01     161.434576\n",
       "             2021-08-08     156.196552\n",
       "             2021-08-15     175.917963\n",
       "             2021-08-22     158.356538\n",
       "             2021-08-29     156.744138\n",
       "Transfer     2021-06-06    1066.940000\n",
       "             2021-06-13     595.144118\n",
       "             2021-06-20     697.573478\n",
       "             2021-06-27     513.036923\n",
       "             2021-07-04     792.788696\n",
       "             2021-07-11     594.206316\n",
       "             2021-07-18     607.627500\n",
       "             2021-07-25     612.573077\n",
       "             2021-08-01     725.744706\n",
       "             2021-08-08     998.225417\n",
       "             2021-08-15     832.985556\n",
       "             2021-08-22     701.635000\n",
       "             2021-08-29     497.722000\n",
       "Name: total, dtype: float64"
      ]
     },
     "execution_count": 90,
     "metadata": {},
     "output_type": "execute_result"
    }
   ],
   "source": [
    "df.groupby(['payment', pd.Grouper(key = 'date', freq = '1w')]).total.mean()"
   ]
  },
  {
   "cell_type": "code",
   "execution_count": 104,
   "id": "d54afb92-7f7d-4179-a347-d76f028b147f",
   "metadata": {},
   "outputs": [
    {
     "data": {
      "text/plain": [
       "<AxesSubplot:xlabel='date', ylabel='total'>"
      ]
     },
     "execution_count": 104,
     "metadata": {},
     "output_type": "execute_result"
    },
    {
     "data": {
      "image/png": "[encoded data removed]",
      "text/plain": [
       "<Figure size 432x288 with 1 Axes>"
      ]
     },
     "metadata": {},
     "output_type": "display_data"
    }
   ],
   "source": [
    "ax = df.groupby(['payment', pd.Grouper(key = 'date', freq = '1w')]).count()\n",
    "sns.lineplot(x = 'date', y = 'total', data = ax, hue = 'payment')\n"
   ]
  },
  {
   "cell_type": "markdown",
   "id": "a3681337-1b69-4869-8e72-26ae8fc86716",
   "metadata": {},
   "source": [
    "### interestingly the number of Purchase through 'Transfer' is relative stable compare to total paying amount of 'Transfer'\n",
    "\n",
    "### Rather, the number of credit card purchases is more unstable. And after middle of August is rapidly decreased "
   ]
  },
  {
   "cell_type": "markdown",
   "id": "9e5eaaf8-9fb3-4bbb-a836-04985a5d060e",
   "metadata": {},
   "source": [
    "### I should have a look more the data, but I guess that most payment methods of Transfer would be from wholesale."
   ]
  },
  {
   "cell_type": "markdown",
   "id": "a68011f0-373a-492c-b705-897b42161171",
   "metadata": {},
   "source": [
    "## In conclusion about total sale, the 'Transfer' payment method is most huge part, but It is unstable. but the number of 'transfer' is ok. It means that there are customers who regulary buy through Transfer but they purchase products sometimes a lot and sometimes not"
   ]
  },
  {
   "cell_type": "markdown",
   "id": "74fa85d5-e9d8-48df-bf20-43604feee25b",
   "metadata": {},
   "source": [
    "# 2. What is the average unit price for each product line?"
   ]
  },
  {
   "cell_type": "code",
   "execution_count": 109,
   "id": "bd2e10b0-dfb0-4e54-8718-017ee2948b2f",
   "metadata": {},
   "outputs": [],
   "source": [
    "from matplotlib import cm"
   ]
  },
  {
   "cell_type": "code",
   "execution_count": 112,
   "id": "ac7d2d3e-9a2a-486f-904c-b3821f12f865",
   "metadata": {},
   "outputs": [
    {
     "data": {
      "image/png": "[encoded data removed]",
      "text/plain": [
       "<Figure size 432x288 with 9 Axes>"
      ]
     },
     "metadata": {},
     "output_type": "display_data"
    }
   ],
   "source": [
    "cmap = cm.get_cmap('gnuplot')\n",
    "scatter = pd.plotting.scatter_matrix(df, marker = 'o', cmap = cmap)"
   ]
  },
  {
   "cell_type": "code",
   "execution_count": 113,
   "id": "e10d712f-1b1c-400b-804e-7de77a990024",
   "metadata": {},
   "outputs": [
    {
     "data": {
      "text/html": [
       "<div>\n",
       "<style scoped>\n",
       "    .dataframe tbody tr th:only-of-type {\n",
       "        vertical-align: middle;\n",
       "    }\n",
       "\n",
       "    .dataframe tbody tr th {\n",
       "        vertical-align: top;\n",
       "    }\n",
       "\n",
       "    .dataframe thead th {\n",
       "        text-align: right;\n",
       "    }\n",
       "</style>\n",
       "<table border=\"1\" class=\"dataframe\">\n",
       "  <thead>\n",
       "    <tr style=\"text-align: right;\">\n",
       "      <th></th>\n",
       "      <th>date</th>\n",
       "      <th>warehouse</th>\n",
       "      <th>client_type</th>\n",
       "      <th>product_line</th>\n",
       "      <th>quantity</th>\n",
       "      <th>unit_price</th>\n",
       "      <th>total</th>\n",
       "      <th>payment</th>\n",
       "    </tr>\n",
       "  </thead>\n",
       "  <tbody>\n",
       "    <tr>\n",
       "      <th>0</th>\n",
       "      <td>2021-06-01</td>\n",
       "      <td>Central</td>\n",
       "      <td>Retail</td>\n",
       "      <td>Miscellaneous</td>\n",
       "      <td>8</td>\n",
       "      <td>16.85</td>\n",
       "      <td>134.83</td>\n",
       "      <td>Credit card</td>\n",
       "    </tr>\n",
       "    <tr>\n",
       "      <th>1</th>\n",
       "      <td>2021-06-01</td>\n",
       "      <td>North</td>\n",
       "      <td>Retail</td>\n",
       "      <td>Breaking system</td>\n",
       "      <td>9</td>\n",
       "      <td>19.29</td>\n",
       "      <td>173.61</td>\n",
       "      <td>Cash</td>\n",
       "    </tr>\n",
       "    <tr>\n",
       "      <th>2</th>\n",
       "      <td>2021-06-01</td>\n",
       "      <td>North</td>\n",
       "      <td>Retail</td>\n",
       "      <td>Suspension &amp; traction</td>\n",
       "      <td>8</td>\n",
       "      <td>32.93</td>\n",
       "      <td>263.45</td>\n",
       "      <td>Credit card</td>\n",
       "    </tr>\n",
       "    <tr>\n",
       "      <th>3</th>\n",
       "      <td>2021-06-01</td>\n",
       "      <td>North</td>\n",
       "      <td>Wholesale</td>\n",
       "      <td>Frame &amp; body</td>\n",
       "      <td>16</td>\n",
       "      <td>37.84</td>\n",
       "      <td>605.44</td>\n",
       "      <td>Transfer</td>\n",
       "    </tr>\n",
       "    <tr>\n",
       "      <th>4</th>\n",
       "      <td>2021-06-01</td>\n",
       "      <td>Central</td>\n",
       "      <td>Retail</td>\n",
       "      <td>Engine</td>\n",
       "      <td>2</td>\n",
       "      <td>60.48</td>\n",
       "      <td>120.96</td>\n",
       "      <td>Credit card</td>\n",
       "    </tr>\n",
       "  </tbody>\n",
       "</table>\n",
       "</div>"
      ],
      "text/plain": [
       "        date warehouse client_type           product_line  quantity  \\\n",
       "0 2021-06-01   Central      Retail          Miscellaneous         8   \n",
       "1 2021-06-01     North      Retail        Breaking system         9   \n",
       "2 2021-06-01     North      Retail  Suspension & traction         8   \n",
       "3 2021-06-01     North   Wholesale           Frame & body        16   \n",
       "4 2021-06-01   Central      Retail                 Engine         2   \n",
       "\n",
       "   unit_price   total      payment  \n",
       "0       16.85  134.83  Credit card  \n",
       "1       19.29  173.61         Cash  \n",
       "2       32.93  263.45  Credit card  \n",
       "3       37.84  605.44     Transfer  \n",
       "4       60.48  120.96  Credit card  "
      ]
     },
     "execution_count": 113,
     "metadata": {},
     "output_type": "execute_result"
    }
   ],
   "source": [
    "df.head()"
   ]
  },
  {
   "cell_type": "code",
   "execution_count": 116,
   "id": "8e6fb1af-244b-4aed-bb90-ca7f3b0f4c6c",
   "metadata": {},
   "outputs": [
    {
     "data": {
      "text/plain": [
       "array(['Miscellaneous', 'Breaking system', 'Suspension & traction',\n",
       "       'Frame & body', 'Engine', 'Electrical system'], dtype=object)"
      ]
     },
     "execution_count": 116,
     "metadata": {},
     "output_type": "execute_result"
    }
   ],
   "source": [
    "df.product_line.unique()"
   ]
  },
  {
   "cell_type": "code",
   "execution_count": 119,
   "id": "2ada4573-8e8e-4797-b9a3-54e8a7a48598",
   "metadata": {},
   "outputs": [
    {
     "data": {
      "text/plain": [
       "product_line\n",
       "Breaking system          17.740522\n",
       "Electrical system        25.585130\n",
       "Engine                   60.091803\n",
       "Frame & body             42.832229\n",
       "Miscellaneous            22.810738\n",
       "Suspension & traction    33.969868\n",
       "Name: unit_price, dtype: float64"
      ]
     },
     "execution_count": 119,
     "metadata": {},
     "output_type": "execute_result"
    }
   ],
   "source": [
    "df.groupby('product_line')['unit_price'].mean()"
   ]
  },
  {
   "cell_type": "code",
   "execution_count": 146,
   "id": "caf7bcd0-b0f0-4e92-b460-524e5f599b69",
   "metadata": {},
   "outputs": [
    {
     "data": {
      "text/plain": [
       "<AxesSubplot:xlabel='product_line', ylabel='unit_price'>"
      ]
     },
     "execution_count": 146,
     "metadata": {},
     "output_type": "execute_result"
    },
    {
     "data": {
      "image/png": "[encoded data removed]",
      "text/plain": [
       "<Figure size 720x360 with 1 Axes>"
      ]
     },
     "metadata": {},
     "output_type": "display_data"
    }
   ],
   "source": [
    "plt.figure(figsize = (10,5))\n",
    "sns.barplot(x= 'product_line', y = 'unit_price', data = df)"
   ]
  },
  {
   "cell_type": "markdown",
   "id": "5633282e-80ff-4b13-93e1-a972459dc820",
   "metadata": {},
   "source": [
    "### As we can expect, engine is the most expansive item, after than 'Frame & doby'"
   ]
  },
  {
   "cell_type": "code",
   "execution_count": 131,
   "id": "e4255451-76ce-4039-bff5-4f9cdbe22e82",
   "metadata": {},
   "outputs": [
    {
     "data": {
      "text/plain": [
       "product_line\n",
       "Breaking system          230\n",
       "Suspension & traction    228\n",
       "Electrical system        193\n",
       "Frame & body             166\n",
       "Miscellaneous            122\n",
       "Engine                    61\n",
       "Name: unit_price, dtype: int64"
      ]
     },
     "execution_count": 131,
     "metadata": {},
     "output_type": "execute_result"
    }
   ],
   "source": [
    "df.groupby('product_line')['unit_price'].count().sort_values(ascending = False)"
   ]
  },
  {
   "cell_type": "markdown",
   "id": "aa2b6747-7555-497e-ae72-72ddd691827e",
   "metadata": {
    "tags": []
   },
   "source": [
    "### quantitatively the company sold Breaking system and Suspension & Traction most."
   ]
  },
  {
   "cell_type": "code",
   "execution_count": 133,
   "id": "1d105ba2-c3e7-4d3e-bbd8-770d1159b122",
   "metadata": {},
   "outputs": [
    {
     "data": {
      "text/html": [
       "<div>\n",
       "<style scoped>\n",
       "    .dataframe tbody tr th:only-of-type {\n",
       "        vertical-align: middle;\n",
       "    }\n",
       "\n",
       "    .dataframe tbody tr th {\n",
       "        vertical-align: top;\n",
       "    }\n",
       "\n",
       "    .dataframe thead th {\n",
       "        text-align: right;\n",
       "    }\n",
       "</style>\n",
       "<table border=\"1\" class=\"dataframe\">\n",
       "  <thead>\n",
       "    <tr style=\"text-align: right;\">\n",
       "      <th></th>\n",
       "      <th>count</th>\n",
       "      <th>mean</th>\n",
       "      <th>std</th>\n",
       "      <th>min</th>\n",
       "      <th>25%</th>\n",
       "      <th>50%</th>\n",
       "      <th>75%</th>\n",
       "      <th>max</th>\n",
       "    </tr>\n",
       "    <tr>\n",
       "      <th>product_line</th>\n",
       "      <th></th>\n",
       "      <th></th>\n",
       "      <th></th>\n",
       "      <th></th>\n",
       "      <th></th>\n",
       "      <th></th>\n",
       "      <th></th>\n",
       "      <th></th>\n",
       "    </tr>\n",
       "  </thead>\n",
       "  <tbody>\n",
       "    <tr>\n",
       "      <th>Breaking system</th>\n",
       "      <td>230.0</td>\n",
       "      <td>17.740522</td>\n",
       "      <td>4.396909</td>\n",
       "      <td>10.03</td>\n",
       "      <td>14.0300</td>\n",
       "      <td>17.380</td>\n",
       "      <td>21.6275</td>\n",
       "      <td>24.98</td>\n",
       "    </tr>\n",
       "    <tr>\n",
       "      <th>Electrical system</th>\n",
       "      <td>193.0</td>\n",
       "      <td>25.585130</td>\n",
       "      <td>4.312426</td>\n",
       "      <td>18.35</td>\n",
       "      <td>21.7000</td>\n",
       "      <td>25.530</td>\n",
       "      <td>29.1800</td>\n",
       "      <td>33.33</td>\n",
       "    </tr>\n",
       "    <tr>\n",
       "      <th>Engine</th>\n",
       "      <td>61.0</td>\n",
       "      <td>60.091803</td>\n",
       "      <td>4.135811</td>\n",
       "      <td>51.79</td>\n",
       "      <td>56.7200</td>\n",
       "      <td>59.820</td>\n",
       "      <td>63.5800</td>\n",
       "      <td>66.62</td>\n",
       "    </tr>\n",
       "    <tr>\n",
       "      <th>Frame &amp; body</th>\n",
       "      <td>166.0</td>\n",
       "      <td>42.832229</td>\n",
       "      <td>4.484133</td>\n",
       "      <td>35.03</td>\n",
       "      <td>39.0675</td>\n",
       "      <td>43.105</td>\n",
       "      <td>46.7800</td>\n",
       "      <td>49.99</td>\n",
       "    </tr>\n",
       "    <tr>\n",
       "      <th>Miscellaneous</th>\n",
       "      <td>122.0</td>\n",
       "      <td>22.810738</td>\n",
       "      <td>4.442666</td>\n",
       "      <td>15.02</td>\n",
       "      <td>19.0275</td>\n",
       "      <td>22.480</td>\n",
       "      <td>26.6075</td>\n",
       "      <td>29.96</td>\n",
       "    </tr>\n",
       "    <tr>\n",
       "      <th>Suspension &amp; traction</th>\n",
       "      <td>228.0</td>\n",
       "      <td>33.969868</td>\n",
       "      <td>4.523732</td>\n",
       "      <td>26.76</td>\n",
       "      <td>29.7275</td>\n",
       "      <td>33.730</td>\n",
       "      <td>37.9175</td>\n",
       "      <td>41.65</td>\n",
       "    </tr>\n",
       "  </tbody>\n",
       "</table>\n",
       "</div>"
      ],
      "text/plain": [
       "                       count       mean       std    min      25%     50%  \\\n",
       "product_line                                                                \n",
       "Breaking system        230.0  17.740522  4.396909  10.03  14.0300  17.380   \n",
       "Electrical system      193.0  25.585130  4.312426  18.35  21.7000  25.530   \n",
       "Engine                  61.0  60.091803  4.135811  51.79  56.7200  59.820   \n",
       "Frame & body           166.0  42.832229  4.484133  35.03  39.0675  43.105   \n",
       "Miscellaneous          122.0  22.810738  4.442666  15.02  19.0275  22.480   \n",
       "Suspension & traction  228.0  33.969868  4.523732  26.76  29.7275  33.730   \n",
       "\n",
       "                           75%    max  \n",
       "product_line                           \n",
       "Breaking system        21.6275  24.98  \n",
       "Electrical system      29.1800  33.33  \n",
       "Engine                 63.5800  66.62  \n",
       "Frame & body           46.7800  49.99  \n",
       "Miscellaneous          26.6075  29.96  \n",
       "Suspension & traction  37.9175  41.65  "
      ]
     },
     "execution_count": 133,
     "metadata": {},
     "output_type": "execute_result"
    }
   ],
   "source": [
    "df.groupby('product_line').unit_price.describe()"
   ]
  },
  {
   "cell_type": "code",
   "execution_count": 157,
   "id": "b5617bc7-d5c0-42f7-a6a9-5a469e43f101",
   "metadata": {},
   "outputs": [
    {
     "data": {
      "text/plain": [
       "<AxesSubplot:>"
      ]
     },
     "execution_count": 157,
     "metadata": {},
     "output_type": "execute_result"
    },
    {
     "data": {
      "image/png": "[encoded data removed]",
      "text/plain": [
       "<Figure size 432x288 with 1 Axes>"
      ]
     },
     "metadata": {},
     "output_type": "display_data"
    }
   ],
   "source": [
    "df[df['product_line'] == 'Breaking system']['unit_price'].hist(bins = 20)"
   ]
  },
  {
   "cell_type": "code",
   "execution_count": 172,
   "id": "451ba682-e8c4-4004-a650-ed85f51bb909",
   "metadata": {},
   "outputs": [
    {
     "data": {
      "text/plain": [
       "<AxesSubplot:xlabel='unit_price', ylabel='Count'>"
      ]
     },
     "execution_count": 172,
     "metadata": {},
     "output_type": "execute_result"
    },
    {
     "data": {
      "image/png": "[encoded data removed]",
      "text/plain": [
       "<Figure size 1440x1440 with 1 Axes>"
      ]
     },
     "metadata": {},
     "output_type": "display_data"
    }
   ],
   "source": [
    "plt.figure(figsize = (20,20))\n",
    "sns.histplot(x = 'unit_price', data = df, hue = 'product_line', bins = 50)"
   ]
  },
  {
   "cell_type": "markdown",
   "id": "62e9f3f4-2627-408d-90e1-04abe01af406",
   "metadata": {},
   "source": [
    "### 3. Visualization. I did already with question 1 and 2"
   ]
  },
  {
   "cell_type": "markdown",
   "id": "ba2709b0-0cba-41e2-b3fd-e40bd8806dc3",
   "metadata": {},
   "source": [
    "###  4. Investigate further (e.g., average purchase value by client type, total purchase value by product line, etc.)"
   ]
  },
  {
   "cell_type": "code",
   "execution_count": 173,
   "id": "c10e83f0-b17b-4def-ae87-de93dc7f1447",
   "metadata": {},
   "outputs": [
    {
     "data": {
      "text/html": [
       "<div>\n",
       "<style scoped>\n",
       "    .dataframe tbody tr th:only-of-type {\n",
       "        vertical-align: middle;\n",
       "    }\n",
       "\n",
       "    .dataframe tbody tr th {\n",
       "        vertical-align: top;\n",
       "    }\n",
       "\n",
       "    .dataframe thead th {\n",
       "        text-align: right;\n",
       "    }\n",
       "</style>\n",
       "<table border=\"1\" class=\"dataframe\">\n",
       "  <thead>\n",
       "    <tr style=\"text-align: right;\">\n",
       "      <th></th>\n",
       "      <th>date</th>\n",
       "      <th>warehouse</th>\n",
       "      <th>client_type</th>\n",
       "      <th>product_line</th>\n",
       "      <th>quantity</th>\n",
       "      <th>unit_price</th>\n",
       "      <th>total</th>\n",
       "      <th>payment</th>\n",
       "    </tr>\n",
       "  </thead>\n",
       "  <tbody>\n",
       "    <tr>\n",
       "      <th>0</th>\n",
       "      <td>2021-06-01</td>\n",
       "      <td>Central</td>\n",
       "      <td>Retail</td>\n",
       "      <td>Miscellaneous</td>\n",
       "      <td>8</td>\n",
       "      <td>16.85</td>\n",
       "      <td>134.83</td>\n",
       "      <td>Credit card</td>\n",
       "    </tr>\n",
       "    <tr>\n",
       "      <th>1</th>\n",
       "      <td>2021-06-01</td>\n",
       "      <td>North</td>\n",
       "      <td>Retail</td>\n",
       "      <td>Breaking system</td>\n",
       "      <td>9</td>\n",
       "      <td>19.29</td>\n",
       "      <td>173.61</td>\n",
       "      <td>Cash</td>\n",
       "    </tr>\n",
       "    <tr>\n",
       "      <th>2</th>\n",
       "      <td>2021-06-01</td>\n",
       "      <td>North</td>\n",
       "      <td>Retail</td>\n",
       "      <td>Suspension &amp; traction</td>\n",
       "      <td>8</td>\n",
       "      <td>32.93</td>\n",
       "      <td>263.45</td>\n",
       "      <td>Credit card</td>\n",
       "    </tr>\n",
       "    <tr>\n",
       "      <th>3</th>\n",
       "      <td>2021-06-01</td>\n",
       "      <td>North</td>\n",
       "      <td>Wholesale</td>\n",
       "      <td>Frame &amp; body</td>\n",
       "      <td>16</td>\n",
       "      <td>37.84</td>\n",
       "      <td>605.44</td>\n",
       "      <td>Transfer</td>\n",
       "    </tr>\n",
       "    <tr>\n",
       "      <th>4</th>\n",
       "      <td>2021-06-01</td>\n",
       "      <td>Central</td>\n",
       "      <td>Retail</td>\n",
       "      <td>Engine</td>\n",
       "      <td>2</td>\n",
       "      <td>60.48</td>\n",
       "      <td>120.96</td>\n",
       "      <td>Credit card</td>\n",
       "    </tr>\n",
       "  </tbody>\n",
       "</table>\n",
       "</div>"
      ],
      "text/plain": [
       "        date warehouse client_type           product_line  quantity  \\\n",
       "0 2021-06-01   Central      Retail          Miscellaneous         8   \n",
       "1 2021-06-01     North      Retail        Breaking system         9   \n",
       "2 2021-06-01     North      Retail  Suspension & traction         8   \n",
       "3 2021-06-01     North   Wholesale           Frame & body        16   \n",
       "4 2021-06-01   Central      Retail                 Engine         2   \n",
       "\n",
       "   unit_price   total      payment  \n",
       "0       16.85  134.83  Credit card  \n",
       "1       19.29  173.61         Cash  \n",
       "2       32.93  263.45  Credit card  \n",
       "3       37.84  605.44     Transfer  \n",
       "4       60.48  120.96  Credit card  "
      ]
     },
     "execution_count": 173,
     "metadata": {},
     "output_type": "execute_result"
    }
   ],
   "source": [
    "df.head()"
   ]
  },
  {
   "cell_type": "markdown",
   "id": "43054e2e-c59f-4f69-879d-f44cc8ece20f",
   "metadata": {},
   "source": [
    "### Analaysing by client type"
   ]
  },
  {
   "cell_type": "code",
   "execution_count": 174,
   "id": "16fa237f-e83b-40db-ad68-2938eb9bd333",
   "metadata": {},
   "outputs": [
    {
     "data": {
      "text/plain": [
       "array(['Retail', 'Wholesale'], dtype=object)"
      ]
     },
     "execution_count": 174,
     "metadata": {},
     "output_type": "execute_result"
    }
   ],
   "source": [
    "df.client_type.unique()"
   ]
  },
  {
   "cell_type": "code",
   "execution_count": 185,
   "id": "c3a54192-139f-442d-8459-3ce8bfa18cb4",
   "metadata": {},
   "outputs": [
    {
     "data": {
      "text/html": [
       "<div>\n",
       "<style scoped>\n",
       "    .dataframe tbody tr th:only-of-type {\n",
       "        vertical-align: middle;\n",
       "    }\n",
       "\n",
       "    .dataframe tbody tr th {\n",
       "        vertical-align: top;\n",
       "    }\n",
       "\n",
       "    .dataframe thead th {\n",
       "        text-align: right;\n",
       "    }\n",
       "</style>\n",
       "<table border=\"1\" class=\"dataframe\">\n",
       "  <thead>\n",
       "    <tr style=\"text-align: right;\">\n",
       "      <th></th>\n",
       "      <th>client_type</th>\n",
       "      <th>quantity</th>\n",
       "      <th>total</th>\n",
       "    </tr>\n",
       "  </thead>\n",
       "  <tbody>\n",
       "    <tr>\n",
       "      <th>0</th>\n",
       "      <td>Retail</td>\n",
       "      <td>4215</td>\n",
       "      <td>129470.67</td>\n",
       "    </tr>\n",
       "    <tr>\n",
       "      <th>1</th>\n",
       "      <td>Wholesale</td>\n",
       "      <td>5180</td>\n",
       "      <td>159642.33</td>\n",
       "    </tr>\n",
       "  </tbody>\n",
       "</table>\n",
       "</div>"
      ],
      "text/plain": [
       "  client_type  quantity      total\n",
       "0      Retail      4215  129470.67\n",
       "1   Wholesale      5180  159642.33"
      ]
     },
     "execution_count": 185,
     "metadata": {},
     "output_type": "execute_result"
    }
   ],
   "source": [
    "by_client = df.groupby('client_type')[['quantity', 'total']].sum().reset_index()\n",
    "by_client"
   ]
  },
  {
   "cell_type": "code",
   "execution_count": 201,
   "id": "e8a78884-8d18-4553-8934-c0bd81f5e61f",
   "metadata": {},
   "outputs": [
    {
     "data": {
      "text/plain": [
       "<AxesSubplot:xlabel='client_type', ylabel='total'>"
      ]
     },
     "execution_count": 201,
     "metadata": {},
     "output_type": "execute_result"
    },
    {
     "data": {
      "image/png": "[encoded data removed]",
      "text/plain": [
       "<Figure size 432x288 with 2 Axes>"
      ]
     },
     "metadata": {},
     "output_type": "display_data"
    }
   ],
   "source": [
    "fig, axes = plt.subplots(2)\n",
    "sns.barplot(x = 'client_type', y = 'quantity', data = by_client, ax = axes[0])\n",
    "sns.barplot(x = 'client_type', y = 'total', data = by_client, ax = axes[1])"
   ]
  },
  {
   "cell_type": "code",
   "execution_count": 207,
   "id": "02bd5fc1-ebc8-4a65-a5ff-e638ba870a08",
   "metadata": {},
   "outputs": [
    {
     "data": {
      "text/html": [
       "<div>\n",
       "<style scoped>\n",
       "    .dataframe tbody tr th:only-of-type {\n",
       "        vertical-align: middle;\n",
       "    }\n",
       "\n",
       "    .dataframe tbody tr th {\n",
       "        vertical-align: top;\n",
       "    }\n",
       "\n",
       "    .dataframe thead th {\n",
       "        text-align: right;\n",
       "    }\n",
       "</style>\n",
       "<table border=\"1\" class=\"dataframe\">\n",
       "  <thead>\n",
       "    <tr style=\"text-align: right;\">\n",
       "      <th></th>\n",
       "      <th></th>\n",
       "      <th>quantity</th>\n",
       "      <th>unit_price</th>\n",
       "      <th>total</th>\n",
       "    </tr>\n",
       "    <tr>\n",
       "      <th>client_type</th>\n",
       "      <th>payment</th>\n",
       "      <th></th>\n",
       "      <th></th>\n",
       "      <th></th>\n",
       "    </tr>\n",
       "  </thead>\n",
       "  <tbody>\n",
       "    <tr>\n",
       "      <th rowspan=\"2\" valign=\"top\">Retail</th>\n",
       "      <th>Cash</th>\n",
       "      <td>627</td>\n",
       "      <td>3479.98</td>\n",
       "      <td>19199.10</td>\n",
       "    </tr>\n",
       "    <tr>\n",
       "      <th>Credit card</th>\n",
       "      <td>3588</td>\n",
       "      <td>19992.33</td>\n",
       "      <td>110271.57</td>\n",
       "    </tr>\n",
       "    <tr>\n",
       "      <th>Wholesale</th>\n",
       "      <th>Transfer</th>\n",
       "      <td>5180</td>\n",
       "      <td>6849.73</td>\n",
       "      <td>159642.33</td>\n",
       "    </tr>\n",
       "  </tbody>\n",
       "</table>\n",
       "</div>"
      ],
      "text/plain": [
       "                         quantity  unit_price      total\n",
       "client_type payment                                     \n",
       "Retail      Cash              627     3479.98   19199.10\n",
       "            Credit card      3588    19992.33  110271.57\n",
       "Wholesale   Transfer         5180     6849.73  159642.33"
      ]
     },
     "execution_count": 207,
     "metadata": {},
     "output_type": "execute_result"
    }
   ],
   "source": [
    "df.groupby(['client_type', 'payment']).sum()"
   ]
  },
  {
   "cell_type": "code",
   "execution_count": 209,
   "id": "4929246d-6738-426e-b83d-97d76b05e3cf",
   "metadata": {},
   "outputs": [
    {
     "data": {
      "text/html": [
       "<div>\n",
       "<style scoped>\n",
       "    .dataframe tbody tr th:only-of-type {\n",
       "        vertical-align: middle;\n",
       "    }\n",
       "\n",
       "    .dataframe tbody tr th {\n",
       "        vertical-align: top;\n",
       "    }\n",
       "\n",
       "    .dataframe thead th {\n",
       "        text-align: right;\n",
       "    }\n",
       "</style>\n",
       "<table border=\"1\" class=\"dataframe\">\n",
       "  <thead>\n",
       "    <tr style=\"text-align: right;\">\n",
       "      <th></th>\n",
       "      <th></th>\n",
       "      <th>quantity</th>\n",
       "      <th>unit_price</th>\n",
       "      <th>total</th>\n",
       "    </tr>\n",
       "    <tr>\n",
       "      <th>client_type</th>\n",
       "      <th>payment</th>\n",
       "      <th></th>\n",
       "      <th></th>\n",
       "      <th></th>\n",
       "    </tr>\n",
       "  </thead>\n",
       "  <tbody>\n",
       "    <tr>\n",
       "      <th rowspan=\"2\" valign=\"top\">Retail</th>\n",
       "      <th>Cash</th>\n",
       "      <td>5.405172</td>\n",
       "      <td>29.999828</td>\n",
       "      <td>165.509483</td>\n",
       "    </tr>\n",
       "    <tr>\n",
       "      <th>Credit card</th>\n",
       "      <td>5.444613</td>\n",
       "      <td>30.337375</td>\n",
       "      <td>167.331669</td>\n",
       "    </tr>\n",
       "    <tr>\n",
       "      <th>Wholesale</th>\n",
       "      <th>Transfer</th>\n",
       "      <td>23.022222</td>\n",
       "      <td>30.443244</td>\n",
       "      <td>709.521467</td>\n",
       "    </tr>\n",
       "  </tbody>\n",
       "</table>\n",
       "</div>"
      ],
      "text/plain": [
       "                          quantity  unit_price       total\n",
       "client_type payment                                       \n",
       "Retail      Cash          5.405172   29.999828  165.509483\n",
       "            Credit card   5.444613   30.337375  167.331669\n",
       "Wholesale   Transfer     23.022222   30.443244  709.521467"
      ]
     },
     "execution_count": 209,
     "metadata": {},
     "output_type": "execute_result"
    }
   ],
   "source": [
    "df.groupby(['client_type', 'payment']).mean()"
   ]
  },
  {
   "cell_type": "markdown",
   "id": "e6bd25cf-066c-4406-b6ce-070e2e6b9bc7",
   "metadata": {},
   "source": [
    "### sale from Wholesale part is little bit more than retail part. And like I expected, payment method of Wholesale is only 'Transfer'. The payment methods from Retail are only Credit card and Cash"
   ]
  },
  {
   "cell_type": "markdown",
   "id": "a7bd00d5-10a5-4e5a-be7c-3e7ee53d9c57",
   "metadata": {},
   "source": [
    "### Wholesale buy more than two times than Retail "
   ]
  },
  {
   "cell_type": "code",
   "execution_count": 211,
   "id": "0e74e940-b564-445a-9738-1582b8db29bf",
   "metadata": {},
   "outputs": [
    {
     "data": {
      "text/plain": [
       "False    746\n",
       "True     254\n",
       "dtype: int64"
      ]
     },
     "execution_count": 211,
     "metadata": {},
     "output_type": "execute_result"
    }
   ],
   "source": [
    "(df.quantity * df.unit_price == df.total).value_counts()"
   ]
  },
  {
   "cell_type": "markdown",
   "id": "02244e75-d2bd-4095-b315-623fc5024e08",
   "metadata": {},
   "source": [
    "### just came in my mind to check the difference between quantity * unit_price and total price and most of them are something wrong"
   ]
  },
  {
   "cell_type": "code",
   "execution_count": 214,
   "id": "5dced3d8-55fc-4165-9c06-42034af59312",
   "metadata": {},
   "outputs": [],
   "source": [
    "df['quant_price'] = df.quantity * df.unit_price"
   ]
  },
  {
   "cell_type": "code",
   "execution_count": 215,
   "id": "1c4dca33-bd4f-4cea-a117-5874e18b5ea6",
   "metadata": {},
   "outputs": [],
   "source": [
    "df['diff'] = df.total - df.quant_price"
   ]
  },
  {
   "cell_type": "code",
   "execution_count": 221,
   "id": "1c3a0ba7-79d3-4bb5-9617-e8d40575d392",
   "metadata": {},
   "outputs": [
    {
     "data": {
      "text/plain": [
       "count    1000.000000\n",
       "mean        0.000840\n",
       "std         0.040016\n",
       "min        -0.200000\n",
       "25%        -0.010000\n",
       "50%         0.000000\n",
       "75%         0.010000\n",
       "max         0.200000\n",
       "Name: diff, dtype: float64"
      ]
     },
     "execution_count": 221,
     "metadata": {},
     "output_type": "execute_result"
    }
   ],
   "source": [
    "df['diff'].describe()"
   ]
  },
  {
   "cell_type": "code",
   "execution_count": 229,
   "id": "f77a6dad-34b1-4f23-816a-014340e4f878",
   "metadata": {},
   "outputs": [
    {
     "data": {
      "text/plain": [
       "11.790000000001402"
      ]
     },
     "execution_count": 229,
     "metadata": {},
     "output_type": "execute_result"
    }
   ],
   "source": [
    "df[df['diff']>0]['diff'].sum()"
   ]
  },
  {
   "cell_type": "code",
   "execution_count": 230,
   "id": "ae096694-436c-454d-b963-ec7ef7bcc71c",
   "metadata": {},
   "outputs": [
    {
     "data": {
      "text/plain": [
       "-10.95000000000098"
      ]
     },
     "execution_count": 230,
     "metadata": {},
     "output_type": "execute_result"
    }
   ],
   "source": [
    "df[df['diff']<0]['diff'].sum()"
   ]
  },
  {
   "cell_type": "markdown",
   "id": "8626e179-68df-4861-87bd-38215eebc94c",
   "metadata": {},
   "source": [
    "### Ok this difference we can ignore"
   ]
  },
  {
   "cell_type": "code",
   "execution_count": 238,
   "id": "15ba7ba7-db16-4560-b7a9-316c57c24ffd",
   "metadata": {},
   "outputs": [
    {
     "data": {
      "text/html": [
       "<div>\n",
       "<style scoped>\n",
       "    .dataframe tbody tr th:only-of-type {\n",
       "        vertical-align: middle;\n",
       "    }\n",
       "\n",
       "    .dataframe tbody tr th {\n",
       "        vertical-align: top;\n",
       "    }\n",
       "\n",
       "    .dataframe thead th {\n",
       "        text-align: right;\n",
       "    }\n",
       "</style>\n",
       "<table border=\"1\" class=\"dataframe\">\n",
       "  <thead>\n",
       "    <tr style=\"text-align: right;\">\n",
       "      <th></th>\n",
       "      <th>date</th>\n",
       "      <th>warehouse</th>\n",
       "      <th>client_type</th>\n",
       "      <th>product_line</th>\n",
       "      <th>quantity</th>\n",
       "      <th>unit_price</th>\n",
       "      <th>total</th>\n",
       "      <th>payment</th>\n",
       "      <th>quant_price</th>\n",
       "      <th>diff</th>\n",
       "    </tr>\n",
       "  </thead>\n",
       "  <tbody>\n",
       "    <tr>\n",
       "      <th>0</th>\n",
       "      <td>2021-06-01</td>\n",
       "      <td>Central</td>\n",
       "      <td>Retail</td>\n",
       "      <td>Miscellaneous</td>\n",
       "      <td>8</td>\n",
       "      <td>16.85</td>\n",
       "      <td>134.83</td>\n",
       "      <td>Credit card</td>\n",
       "      <td>134.80</td>\n",
       "      <td>3.000000e-02</td>\n",
       "    </tr>\n",
       "    <tr>\n",
       "      <th>1</th>\n",
       "      <td>2021-06-01</td>\n",
       "      <td>North</td>\n",
       "      <td>Retail</td>\n",
       "      <td>Breaking system</td>\n",
       "      <td>9</td>\n",
       "      <td>19.29</td>\n",
       "      <td>173.61</td>\n",
       "      <td>Cash</td>\n",
       "      <td>173.61</td>\n",
       "      <td>2.842171e-14</td>\n",
       "    </tr>\n",
       "    <tr>\n",
       "      <th>2</th>\n",
       "      <td>2021-06-01</td>\n",
       "      <td>North</td>\n",
       "      <td>Retail</td>\n",
       "      <td>Suspension &amp; traction</td>\n",
       "      <td>8</td>\n",
       "      <td>32.93</td>\n",
       "      <td>263.45</td>\n",
       "      <td>Credit card</td>\n",
       "      <td>263.44</td>\n",
       "      <td>1.000000e-02</td>\n",
       "    </tr>\n",
       "    <tr>\n",
       "      <th>3</th>\n",
       "      <td>2021-06-01</td>\n",
       "      <td>North</td>\n",
       "      <td>Wholesale</td>\n",
       "      <td>Frame &amp; body</td>\n",
       "      <td>16</td>\n",
       "      <td>37.84</td>\n",
       "      <td>605.44</td>\n",
       "      <td>Transfer</td>\n",
       "      <td>605.44</td>\n",
       "      <td>0.000000e+00</td>\n",
       "    </tr>\n",
       "    <tr>\n",
       "      <th>4</th>\n",
       "      <td>2021-06-01</td>\n",
       "      <td>Central</td>\n",
       "      <td>Retail</td>\n",
       "      <td>Engine</td>\n",
       "      <td>2</td>\n",
       "      <td>60.48</td>\n",
       "      <td>120.96</td>\n",
       "      <td>Credit card</td>\n",
       "      <td>120.96</td>\n",
       "      <td>0.000000e+00</td>\n",
       "    </tr>\n",
       "  </tbody>\n",
       "</table>\n",
       "</div>"
      ],
      "text/plain": [
       "        date warehouse client_type           product_line  quantity  \\\n",
       "0 2021-06-01   Central      Retail          Miscellaneous         8   \n",
       "1 2021-06-01     North      Retail        Breaking system         9   \n",
       "2 2021-06-01     North      Retail  Suspension & traction         8   \n",
       "3 2021-06-01     North   Wholesale           Frame & body        16   \n",
       "4 2021-06-01   Central      Retail                 Engine         2   \n",
       "\n",
       "   unit_price   total      payment  quant_price          diff  \n",
       "0       16.85  134.83  Credit card       134.80  3.000000e-02  \n",
       "1       19.29  173.61         Cash       173.61  2.842171e-14  \n",
       "2       32.93  263.45  Credit card       263.44  1.000000e-02  \n",
       "3       37.84  605.44     Transfer       605.44  0.000000e+00  \n",
       "4       60.48  120.96  Credit card       120.96  0.000000e+00  "
      ]
     },
     "execution_count": 238,
     "metadata": {},
     "output_type": "execute_result"
    }
   ],
   "source": [
    "df.head()"
   ]
  },
  {
   "cell_type": "code",
   "execution_count": 232,
   "id": "4dedc1cb-9042-4452-bdf2-e8993ac5bc7c",
   "metadata": {},
   "outputs": [
    {
     "data": {
      "text/plain": [
       "array(['Central', 'North', 'West'], dtype=object)"
      ]
     },
     "execution_count": 232,
     "metadata": {},
     "output_type": "execute_result"
    }
   ],
   "source": [
    "df.warehouse.unique()"
   ]
  },
  {
   "cell_type": "code",
   "execution_count": 237,
   "id": "e2402074-8356-48c2-bc24-f5357d10cc41",
   "metadata": {},
   "outputs": [
    {
     "data": {
      "text/plain": [
       "warehouse\n",
       "Central    480\n",
       "North      340\n",
       "West       180\n",
       "Name: date, dtype: int64"
      ]
     },
     "execution_count": 237,
     "metadata": {},
     "output_type": "execute_result"
    }
   ],
   "source": [
    "df.groupby('warehouse').date.count()"
   ]
  },
  {
   "cell_type": "code",
   "execution_count": 235,
   "id": "e26c8088-6c1b-473d-a207-1c9bd11c9d8c",
   "metadata": {},
   "outputs": [
    {
     "data": {
      "text/plain": [
       "warehouse\n",
       "Central    141982.88\n",
       "North      100203.63\n",
       "West        46926.49\n",
       "Name: total, dtype: float64"
      ]
     },
     "execution_count": 235,
     "metadata": {},
     "output_type": "execute_result"
    }
   ],
   "source": [
    "df.groupby('warehouse').total.sum()"
   ]
  },
  {
   "cell_type": "code",
   "execution_count": 236,
   "id": "775bb6b7-4e0b-41b9-a91b-d1ec5d9d028f",
   "metadata": {},
   "outputs": [
    {
     "data": {
      "text/plain": [
       "warehouse\n",
       "Central    295.797667\n",
       "North      294.716559\n",
       "West       260.702722\n",
       "dtype: float64"
      ]
     },
     "execution_count": 236,
     "metadata": {},
     "output_type": "execute_result"
    }
   ],
   "source": [
    "df.groupby('warehouse').total.sum() / df.groupby('warehouse').date.count()"
   ]
  },
  {
   "cell_type": "code",
   "execution_count": 246,
   "id": "50cc524b-3f87-4f00-984b-fbea80505a84",
   "metadata": {},
   "outputs": [
    {
     "data": {
      "text/html": [
       "<div>\n",
       "<style scoped>\n",
       "    .dataframe tbody tr th:only-of-type {\n",
       "        vertical-align: middle;\n",
       "    }\n",
       "\n",
       "    .dataframe tbody tr th {\n",
       "        vertical-align: top;\n",
       "    }\n",
       "\n",
       "    .dataframe thead th {\n",
       "        text-align: right;\n",
       "    }\n",
       "</style>\n",
       "<table border=\"1\" class=\"dataframe\">\n",
       "  <thead>\n",
       "    <tr style=\"text-align: right;\">\n",
       "      <th></th>\n",
       "      <th>warehouse</th>\n",
       "      <th>client_type</th>\n",
       "      <th>total</th>\n",
       "    </tr>\n",
       "  </thead>\n",
       "  <tbody>\n",
       "    <tr>\n",
       "      <th>0</th>\n",
       "      <td>Central</td>\n",
       "      <td>Retail</td>\n",
       "      <td>63126.12</td>\n",
       "    </tr>\n",
       "    <tr>\n",
       "      <th>1</th>\n",
       "      <td>Central</td>\n",
       "      <td>Wholesale</td>\n",
       "      <td>78856.76</td>\n",
       "    </tr>\n",
       "    <tr>\n",
       "      <th>2</th>\n",
       "      <td>North</td>\n",
       "      <td>Retail</td>\n",
       "      <td>42137.36</td>\n",
       "    </tr>\n",
       "    <tr>\n",
       "      <th>3</th>\n",
       "      <td>North</td>\n",
       "      <td>Wholesale</td>\n",
       "      <td>58066.27</td>\n",
       "    </tr>\n",
       "    <tr>\n",
       "      <th>4</th>\n",
       "      <td>West</td>\n",
       "      <td>Retail</td>\n",
       "      <td>24207.19</td>\n",
       "    </tr>\n",
       "    <tr>\n",
       "      <th>5</th>\n",
       "      <td>West</td>\n",
       "      <td>Wholesale</td>\n",
       "      <td>22719.30</td>\n",
       "    </tr>\n",
       "  </tbody>\n",
       "</table>\n",
       "</div>"
      ],
      "text/plain": [
       "  warehouse client_type     total\n",
       "0   Central      Retail  63126.12\n",
       "1   Central   Wholesale  78856.76\n",
       "2     North      Retail  42137.36\n",
       "3     North   Wholesale  58066.27\n",
       "4      West      Retail  24207.19\n",
       "5      West   Wholesale  22719.30"
      ]
     },
     "execution_count": 246,
     "metadata": {},
     "output_type": "execute_result"
    }
   ],
   "source": [
    "local_cli = df.groupby(['warehouse','client_type'] ).total.sum().reset_index()\n",
    "local_cli"
   ]
  },
  {
   "cell_type": "code",
   "execution_count": 247,
   "id": "877c535d-62c3-4d23-822f-80281f192f62",
   "metadata": {},
   "outputs": [
    {
     "data": {
      "text/plain": [
       "<AxesSubplot:xlabel='warehouse', ylabel='total'>"
      ]
     },
     "execution_count": 247,
     "metadata": {},
     "output_type": "execute_result"
    },
    {
     "data": {
      "image/png": "[encoded data removed]",
      "text/plain": [
       "<Figure size 432x288 with 1 Axes>"
      ]
     },
     "metadata": {},
     "output_type": "display_data"
    }
   ],
   "source": [
    "sns.barplot(x = 'warehouse', y = 'total', data = local_cli, hue = 'client_type')"
   ]
  },
  {
   "cell_type": "code",
   "execution_count": null,
   "id": "59ac7dbf-f95d-4e2b-9337-ca75b0225181",
   "metadata": {},
   "outputs": [],
   "source": []
  }
 ],
 "metadata": {
  "kernelspec": {
   "display_name": "Python 3 (ipykernel)",
   "language": "python",
   "name": "python3"
  },
  "language_info": {
   "codemirror_mode": {
    "name": "ipython",
    "version": 3
   },
   "file_extension": ".py",
   "mimetype": "text/x-python",
   "name": "python",
   "nbconvert_exporter": "python",
   "pygments_lexer": "ipython3",
   "version": "3.9.7"
  }
 },
 "nbformat": 4,
 "nbformat_minor": 5
}
